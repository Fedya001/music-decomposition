{
  "nbformat": 4,
  "nbformat_minor": 0,
  "metadata": {
    "colab": {
      "name": "Test.ipynb",
      "provenance": [],
      "private_outputs": true,
      "collapsed_sections": []
    },
    "kernelspec": {
      "name": "python3",
      "display_name": "Python 3"
    },
    "accelerator": "GPU"
  },
  "cells": [
    {
      "cell_type": "code",
      "metadata": {
        "id": "6CMMmt5JCQLE"
      },
      "source": [
        "from google.colab import drive\n",
        "\n",
        "\n",
        "drive.mount('/content/drive') # noqa"
      ],
      "execution_count": null,
      "outputs": []
    },
    {
      "cell_type": "code",
      "metadata": {
        "id": "AN-BLhDsKUZM"
      },
      "source": [
        "!cd '/content/drive/My Drive/CourseWork/MusicDecomposition'"
      ],
      "execution_count": null,
      "outputs": []
    },
    {
      "cell_type": "code",
      "metadata": {
        "id": "8ntRzcoq9Ex5"
      },
      "source": [
        "with open(\"requirements.txt\") as f:\n",
        "    requirements = f.read()\n",
        "    print(requirements)"
      ],
      "execution_count": null,
      "outputs": []
    },
    {
      "cell_type": "code",
      "metadata": {
        "id": "gjjF-9s-IDvO"
      },
      "source": [
        "!pip install -r requirements.txt"
      ],
      "execution_count": null,
      "outputs": []
    },
    {
      "cell_type": "code",
      "metadata": {
        "id": "jd2wCMvXM9Io"
      },
      "source": [
        "import numpy\n",
        "\n",
        "\n",
        "numpy.version.version"
      ],
      "execution_count": null,
      "outputs": []
    },
    {
      "cell_type": "code",
      "metadata": {
        "id": "LppaC3sY2erR"
      },
      "source": [
        "import typing as tp\n",
        "import heapq\n",
        "\n",
        "\n",
        "def merge(seq: tp.Sequence[tp.Sequence[int]]) -> tp.List[int]:\n",
        "    \"\"\"\n",
        "    :param seq: sequence of sorted sequences\n",
        "    :return: merged sorted list\n",
        "    \"\"\"\n",
        "    heap: tp.List[tp.Tuple[int, int, int]] = []\n",
        "    for index, lst in enumerate(seq):\n",
        "        if lst:\n",
        "            heapq.heappush(heap, (lst[0], index, 0))\n",
        "\n",
        "    result: tp.List[int] = []\n",
        "    while heap:\n",
        "        value, seq_index, lst_index = heapq.heappop(heap)\n",
        "        result.append(value)\n",
        "\n",
        "        lst_index += 1\n",
        "        if lst_index < len(seq[seq_index]):\n",
        "            heapq.heappush(heap, (seq[seq_index][lst_index], seq_index, lst_index))\n",
        "    return result\n"
      ],
      "execution_count": null,
      "outputs": []
    },
    {
      "cell_type": "code",
      "metadata": {
        "id": "NGL-5wQqFs9R"
      },
      "source": [
        "lhs_lst: tp.List[int] = [1, 6, 42, 100]\n",
        "rhs_lst: tp.List[int] = [5, 33, 99, 200]  # comment\n",
        "\n",
        "print(merge((lhs_lst, rhs_lst)))"
      ],
      "execution_count": null,
      "outputs": []
    },
    {
      "cell_type": "code",
      "metadata": {
        "id": "kNbQMQnuDNQW"
      },
      "source": [
        "!python --version"
      ],
      "execution_count": null,
      "outputs": []
    },
    {
      "cell_type": "code",
      "metadata": {
        "id": "mM0z737Lg0xT"
      },
      "source": [
        "!pip freeze"
      ],
      "execution_count": null,
      "outputs": []
    },
    {
      "cell_type": "markdown",
      "metadata": {
        "id": "xq-0VodpG1o5"
      },
      "source": [
        "Вот тут допустим ещё ячейка с текстом"
      ]
    }
  ]
}